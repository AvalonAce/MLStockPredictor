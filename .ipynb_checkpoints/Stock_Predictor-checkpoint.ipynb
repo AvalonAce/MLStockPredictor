{
 "cells": [
  {
   "cell_type": "markdown",
   "id": "04a2b6f5-629d-4f8a-a33d-65b9e55e8c86",
   "metadata": {},
   "source": [
    "# Machine Learning's Capacity to Beat the Market -- Notebook\n",
    "## Authors: Nathan Dejesus, Brandon Barker, Jack Lea, Mike Damiano, Ryan Schreck\n",
    "---\n",
    "The following notebook contains implemented machine learning algorithms to predict the [INSERT PREDICTION TARGET] for the [New York Stock Exchange dataset](https://www.kaggle.com/datasets/dgawlik/nyse/data?select=fundamentals.csv). The makeup consists of **Preprocessing**, **Implementations**, and **Analysis** concerning the data's features. "
   ]
  },
  {
   "cell_type": "code",
   "execution_count": null,
   "id": "70b7a465-8ab7-4e82-a5d5-b225262d4feb",
   "metadata": {},
   "outputs": [],
   "source": []
  }
 ],
 "metadata": {
  "kernelspec": {
   "display_name": "Python 3 (ipykernel)",
   "language": "python",
   "name": "python3"
  },
  "language_info": {
   "codemirror_mode": {
    "name": "ipython",
    "version": 3
   },
   "file_extension": ".py",
   "mimetype": "text/x-python",
   "name": "python",
   "nbconvert_exporter": "python",
   "pygments_lexer": "ipython3",
   "version": "3.12.4"
  }
 },
 "nbformat": 4,
 "nbformat_minor": 5
}
